{
 "cells": [
  {
   "cell_type": "code",
   "execution_count": 35,
   "metadata": {},
   "outputs": [],
   "source": [
    "#### We will be using machine learning techniques for image similarity initially to get a benchmark solution before applying deep leaarning technique"
   ]
  },
  {
   "cell_type": "code",
   "execution_count": 1,
   "metadata": {},
   "outputs": [],
   "source": [
    "import numpy as np\n",
    "import pandas as pd\n",
    "import matplotlib.pyplot as plt\n",
    "import cv2\n",
    "from sklearn.neighbors import KNeighborsClassifier\n",
    "from sklearn.model_selection import train_test_split\n",
    "from imutils import paths\n",
    "import numpy as np\n",
    "import argparse\n",
    "import imutils\n",
    "import os"
   ]
  },
  {
   "cell_type": "code",
   "execution_count": 2,
   "metadata": {},
   "outputs": [],
   "source": [
    "def image_to_feature_vector(image, size=(32, 32)):\n",
    "    # resize the image to a fixed size, then flatten the image into\n",
    "    # a list of raw pixel intensities\n",
    "    return cv2.resize(image, size).flatten()"
   ]
  },
  {
   "cell_type": "code",
   "execution_count": 3,
   "metadata": {},
   "outputs": [],
   "source": [
    "def extract_color_histogram(image, bins=(8, 8, 8)):\n",
    "    # extract a 3D color histogram from the HSV color space using\n",
    "    # the supplied number of `bins` per channel\n",
    "    hsv = cv2.cvtColor(image, cv2.COLOR_BGR2HSV)\n",
    "    hist = cv2.calcHist([hsv], [0, 1, 2], None, bins,\n",
    "        [0, 180, 0, 256, 0, 256])\n",
    "    # handle normalizing the histogram if we are using OpenCV 2.4.X\n",
    "    if imutils.is_cv2():\n",
    "        hist = cv2.normalize(hist)\n",
    "    # otherwise, perform \"in place\" normalization in OpenCV 3 (I\n",
    "    # personally hate the way this is done\n",
    "    else:\n",
    "        cv2.normalize(hist, hist)\n",
    "    # return the flattened histogram as the feature vector\n",
    "    return hist.flatten()"
   ]
  },
  {
   "cell_type": "code",
   "execution_count": null,
   "metadata": {},
   "outputs": [],
   "source": []
  },
  {
   "cell_type": "code",
   "execution_count": 4,
   "metadata": {},
   "outputs": [
    {
     "name": "stdout",
     "output_type": "stream",
     "text": [
      "[INFO] describing images...\n"
     ]
    }
   ],
   "source": [
    "# grab the list of images that we'll be describing\n",
    "print(\"[INFO] describing images...\")\n",
    "imagePaths = list(paths.list_images('images/conflict/1954'))\n",
    "# initialize the raw pixel intensities matrix, the features matrix,\n",
    "# and labels list\n",
    "rawImages = []\n",
    "features = []\n",
    "labels = []"
   ]
  },
  {
   "cell_type": "code",
   "execution_count": 5,
   "metadata": {},
   "outputs": [
    {
     "data": {
      "text/plain": [
       "['images/conflict/1954/4466335.png',\n",
       " 'images/conflict/1954/4472340.png',\n",
       " 'images/conflict/1954/3215127.png',\n",
       " 'images/conflict/1954/4489694.png',\n",
       " 'images/conflict/1954/3233692.png']"
      ]
     },
     "execution_count": 5,
     "metadata": {},
     "output_type": "execute_result"
    }
   ],
   "source": [
    "imagePaths[:5]"
   ]
  },
  {
   "cell_type": "code",
   "execution_count": 6,
   "metadata": {},
   "outputs": [
    {
     "name": "stdout",
     "output_type": "stream",
     "text": [
      "[INFO] processed 1000/3084\n",
      "[INFO] processed 2000/3084\n",
      "[INFO] processed 3000/3084\n"
     ]
    }
   ],
   "source": [
    "# loop over the input images\n",
    "for (i, imagePath) in enumerate(imagePaths):\n",
    "    # load the image and extract the class label (assuming that our\n",
    "    # path as the format: /path/to/dataset/{class}.{image_num}.jpg\n",
    "    image = cv2.imread(imagePath)\n",
    "    label = imagePath.split(os.path.sep)[-1].split(\".\")[0]\n",
    "    # extract raw pixel intensity \"features\", followed by a color\n",
    "    # histogram to characterize the color distribution of the pixels\n",
    "    # in the image\n",
    "    pixels = image_to_feature_vector(image)\n",
    "    hist = extract_color_histogram(image)\n",
    "    # update the raw images, features, and labels matricies,\n",
    "    # respectively\n",
    "    rawImages.append(pixels)\n",
    "    features.append(hist)\n",
    "    labels.append(label)\n",
    "    # show an update every 1,000 images\n",
    "    if i > 0 and i % 1000 == 0:\n",
    "        print(\"[INFO] processed {}/{}\".format(i, len(imagePaths)))"
   ]
  },
  {
   "cell_type": "code",
   "execution_count": 7,
   "metadata": {},
   "outputs": [
    {
     "data": {
      "text/plain": [
       "['4466335', '4472340', '3215127', '4489694', '3233692']"
      ]
     },
     "execution_count": 7,
     "metadata": {},
     "output_type": "execute_result"
    }
   ],
   "source": [
    "labels[:5]"
   ]
  },
  {
   "cell_type": "code",
   "execution_count": 8,
   "metadata": {},
   "outputs": [
    {
     "name": "stdout",
     "output_type": "stream",
     "text": [
      "[INFO] pixels matrix: 9.25MB\n",
      "[INFO] features matrix: 6.17MB\n"
     ]
    }
   ],
   "source": [
    "# show some information on the memory consumed by the raw images\n",
    "# matrix and features matrix\n",
    "rawImages = np.array(rawImages)\n",
    "features = np.array(features)\n",
    "labels = np.array(labels)\n",
    "print(\"[INFO] pixels matrix: {:.2f}MB\".format(\n",
    "    rawImages.nbytes / (1024 * 1000.0)))\n",
    "print(\"[INFO] features matrix: {:.2f}MB\".format(\n",
    "        features.nbytes / (1024 * 1000.0)))"
   ]
  },
  {
   "cell_type": "code",
   "execution_count": 20,
   "metadata": {},
   "outputs": [],
   "source": []
  },
  {
   "cell_type": "code",
   "execution_count": 10,
   "metadata": {},
   "outputs": [],
   "source": [
    "from keras.preprocessing import image\n",
    "from keras.applications.xception import Xception\n",
    "from keras.applications.xception import preprocess_input\n",
    "import numpy as np\n",
    "from sklearn.cluster import KMeans\n",
    "import os, shutil, glob, os.path\n",
    "from PIL import Image as pil_image\n",
    "image.LOAD_TRUNCATED_IMAGES = True \n",
    "model = Xception(weights='imagenet', include_top=False)"
   ]
  },
  {
   "cell_type": "code",
   "execution_count": 11,
   "metadata": {},
   "outputs": [
    {
     "name": "stdout",
     "output_type": "stream",
     "text": [
      "    Status: 3083 / 3084\r"
     ]
    }
   ],
   "source": [
    "# Variables\n",
    "imdir = 'images/conflict/1954'\n",
    "targetdir = \"clusters_kmeans_xception_v2/\"\n",
    "\n",
    "# Loop over files and get features\n",
    "filelist = glob.glob(os.path.join(imdir, '*.png'))\n",
    "filelist.sort()\n",
    "featurelist = []\n",
    "for i, imagepath in enumerate(filelist):\n",
    "    print(\"    Status: %s / %s\" %(i, len(filelist)), end=\"\\r\")\n",
    "    img = image.load_img(imagepath, target_size=(224, 224))\n",
    "    img_data = image.img_to_array(img)\n",
    "    img_data = np.expand_dims(img_data, axis=0)\n",
    "    img_data = preprocess_input(img_data)\n",
    "    features = np.array(model.predict(img_data))\n",
    "    featurelist.append(features.flatten())"
   ]
  },
  {
   "cell_type": "code",
   "execution_count": 13,
   "metadata": {},
   "outputs": [
    {
     "name": "stdout",
     "output_type": "stream",
     "text": [
      "\n",
      "\n",
      "    Copy: 3083 / 3084\r"
     ]
    }
   ],
   "source": [
    "number_clusters = 1028\n",
    "\n",
    "# Clustering\n",
    "kmeans = KMeans(n_clusters=number_clusters, random_state=0).fit(np.array(featurelist))\n",
    "\n",
    "# Copy images renamed by cluster \n",
    "# Check if target dir exists\n",
    "try:\n",
    "    os.makedirs(targetdir)\n",
    "except OSError:\n",
    "    pass\n",
    "# Copy with cluster name\n",
    "print(\"\\n\")\n",
    "for i, m in enumerate(kmeans.labels_):\n",
    "    print(\"    Copy: %s / %s\" %(i, len(kmeans.labels_)), end=\"\\r\")\n",
    "    shutil.copy(filelist[i], targetdir + str(m) + \"_\" + str(i) + \".jpg\")"
   ]
  },
  {
   "cell_type": "code",
   "execution_count": 12,
   "metadata": {},
   "outputs": [
    {
     "data": {
      "text/plain": [
       "'clusters_kmeans_xception_v2/'"
      ]
     },
     "execution_count": 12,
     "metadata": {},
     "output_type": "execute_result"
    }
   ],
   "source": [
    "targetdir"
   ]
  },
  {
   "cell_type": "markdown",
   "metadata": {},
   "source": [
    "#### Running on edge detection algorithm generated images"
   ]
  },
  {
   "cell_type": "code",
   "execution_count": 14,
   "metadata": {},
   "outputs": [
    {
     "name": "stdout",
     "output_type": "stream",
     "text": [
      "    Status: 107 / 108\r"
     ]
    }
   ],
   "source": [
    "# Variables\n",
    "imdir = 'edge_detection'\n",
    "\n",
    "# Loop over files and get features\n",
    "filelist = glob.glob(os.path.join(imdir, '*.png'))\n",
    "filelist.sort()\n",
    "featurelist = []\n",
    "for i, imagepath in enumerate(filelist):\n",
    "    print(\"    Status: %s / %s\" %(i, len(filelist)), end=\"\\r\")\n",
    "    img = image.load_img(imagepath, target_size=(224, 224))\n",
    "    img_data = image.img_to_array(img)\n",
    "    img_data = np.expand_dims(img_data, axis=0)\n",
    "    img_data = preprocess_input(img_data)\n",
    "    features = np.array(model.predict(img_data))\n",
    "    featurelist.append(features.flatten())"
   ]
  },
  {
   "cell_type": "code",
   "execution_count": 15,
   "metadata": {},
   "outputs": [
    {
     "name": "stderr",
     "output_type": "stream",
     "text": [
      "\r",
      "  0%|          | 0/5 [00:00<?, ?it/s]"
     ]
    },
    {
     "name": "stdout",
     "output_type": "stream",
     "text": [
      "Number of Clusters  5\n"
     ]
    },
    {
     "name": "stderr",
     "output_type": "stream",
     "text": [
      "/Users/Rahulthakur/opt/anaconda3/lib/python3.8/site-packages/sklearn/cluster/_kmeans.py:938: FutureWarning: 'n_jobs' was deprecated in version 0.23 and will be removed in 0.25.\n",
      "  warnings.warn(\"'n_jobs' was deprecated in version 0.23 and will be\"\n",
      " 20%|██        | 1/5 [00:03<00:14,  3.65s/it]"
     ]
    },
    {
     "name": "stdout",
     "output_type": "stream",
     "text": [
      "838705.3125\n",
      "Number of Clusters  10\n"
     ]
    },
    {
     "name": "stderr",
     "output_type": "stream",
     "text": [
      "/Users/Rahulthakur/opt/anaconda3/lib/python3.8/site-packages/sklearn/cluster/_kmeans.py:938: FutureWarning: 'n_jobs' was deprecated in version 0.23 and will be removed in 0.25.\n",
      "  warnings.warn(\"'n_jobs' was deprecated in version 0.23 and will be\"\n",
      " 40%|████      | 2/5 [00:10<00:13,  4.63s/it]"
     ]
    },
    {
     "name": "stdout",
     "output_type": "stream",
     "text": [
      "710950.875\n",
      "Number of Clusters  15\n"
     ]
    },
    {
     "name": "stderr",
     "output_type": "stream",
     "text": [
      "/Users/Rahulthakur/opt/anaconda3/lib/python3.8/site-packages/sklearn/cluster/_kmeans.py:938: FutureWarning: 'n_jobs' was deprecated in version 0.23 and will be removed in 0.25.\n",
      "  warnings.warn(\"'n_jobs' was deprecated in version 0.23 and will be\"\n",
      " 60%|██████    | 3/5 [00:17<00:10,  5.36s/it]"
     ]
    },
    {
     "name": "stdout",
     "output_type": "stream",
     "text": [
      "613447.5625\n",
      "Number of Clusters  25\n"
     ]
    },
    {
     "name": "stderr",
     "output_type": "stream",
     "text": [
      "/Users/Rahulthakur/opt/anaconda3/lib/python3.8/site-packages/sklearn/cluster/_kmeans.py:938: FutureWarning: 'n_jobs' was deprecated in version 0.23 and will be removed in 0.25.\n",
      "  warnings.warn(\"'n_jobs' was deprecated in version 0.23 and will be\"\n",
      " 80%|████████  | 4/5 [00:31<00:07,  7.94s/it]"
     ]
    },
    {
     "name": "stdout",
     "output_type": "stream",
     "text": [
      "445354.78125\n",
      "Number of Clusters  40\n"
     ]
    },
    {
     "name": "stderr",
     "output_type": "stream",
     "text": [
      "/Users/Rahulthakur/opt/anaconda3/lib/python3.8/site-packages/sklearn/cluster/_kmeans.py:938: FutureWarning: 'n_jobs' was deprecated in version 0.23 and will be removed in 0.25.\n",
      "  warnings.warn(\"'n_jobs' was deprecated in version 0.23 and will be\"\n",
      "100%|██████████| 5/5 [00:48<00:00,  9.67s/it]"
     ]
    },
    {
     "name": "stdout",
     "output_type": "stream",
     "text": [
      "285928.3125\n"
     ]
    },
    {
     "name": "stderr",
     "output_type": "stream",
     "text": [
      "\n"
     ]
    }
   ],
   "source": [
    "from tqdm import tqdm\n",
    "### Using elbow method to find optimal number of clusters\n",
    "SSE = []\n",
    "for cluster in tqdm([5,10,15,25,40]):\n",
    "    print(\"Number of Clusters \",cluster)\n",
    "    kmeans = KMeans(n_clusters=cluster,n_jobs=-1, random_state=0).fit(np.array(featurelist))\n",
    "    print(kmeans.inertia_)\n",
    "    SSE.append(kmeans.inertia_)"
   ]
  },
  {
   "cell_type": "code",
   "execution_count": 16,
   "metadata": {},
   "outputs": [
    {
     "data": {
      "text/plain": [
       "['edge_detection/10_horizontal.png',\n",
       " 'edge_detection/10_vertical.png',\n",
       " 'edge_detection/11_horizontal.png',\n",
       " 'edge_detection/11_vertical.png',\n",
       " 'edge_detection/12_horizontal.png',\n",
       " 'edge_detection/12_vertical.png',\n",
       " 'edge_detection/13_horizontal.png',\n",
       " 'edge_detection/13_vertical.png',\n",
       " 'edge_detection/14_horizontal.png',\n",
       " 'edge_detection/14_vertical.png',\n",
       " 'edge_detection/24_vertical.png',\n",
       " 'edge_detection/25_horizontal.png',\n",
       " 'edge_detection/25_vertical.png',\n",
       " 'edge_detection/26_horizontal.png',\n",
       " 'edge_detection/26_vertical.png',\n",
       " 'edge_detection/27_horizontal.png',\n",
       " 'edge_detection/27_vertical.png',\n",
       " 'edge_detection/28_horizontal.png',\n",
       " 'edge_detection/28_vertical.png',\n",
       " 'edge_detection/29_horizontal.png',\n",
       " 'edge_detection/29_vertical.png',\n",
       " 'edge_detection/2_horizontal.png',\n",
       " 'edge_detection/2_vertical.png',\n",
       " 'edge_detection/30_horizontal.png',\n",
       " 'edge_detection/30_vertical.png',\n",
       " 'edge_detection/31_horizontal.png',\n",
       " 'edge_detection/31_vertical.png',\n",
       " 'edge_detection/32_horizontal.png',\n",
       " 'edge_detection/32_vertical.png',\n",
       " 'edge_detection/33_horizontal.png',\n",
       " 'edge_detection/33_vertical.png',\n",
       " 'edge_detection/34_horizontal.png',\n",
       " 'edge_detection/34_vertical.png',\n",
       " 'edge_detection/35_horizontal.png',\n",
       " 'edge_detection/35_vertical.png',\n",
       " 'edge_detection/36_horizontal.png',\n",
       " 'edge_detection/36_vertical.png',\n",
       " 'edge_detection/37_horizontal.png',\n",
       " 'edge_detection/37_vertical.png',\n",
       " 'edge_detection/38_horizontal.png',\n",
       " 'edge_detection/38_vertical.png',\n",
       " 'edge_detection/3_horizontal.png',\n",
       " 'edge_detection/3_vertical.png',\n",
       " 'edge_detection/40_horizontal.png',\n",
       " 'edge_detection/40_vertical.png',\n",
       " 'edge_detection/41_horizontal.png',\n",
       " 'edge_detection/41_vertical.png',\n",
       " 'edge_detection/43_horizontal.png',\n",
       " 'edge_detection/43_vertical.png',\n",
       " 'edge_detection/44_horizontal.png',\n",
       " 'edge_detection/44_vertical.png',\n",
       " 'edge_detection/45_horizontal.png',\n",
       " 'edge_detection/45_vertical.png',\n",
       " 'edge_detection/48_vertical.png',\n",
       " 'edge_detection/49_horizontal.png',\n",
       " 'edge_detection/49_vertical.png',\n",
       " 'edge_detection/4_horizontal.png',\n",
       " 'edge_detection/4_vertical.png',\n",
       " 'edge_detection/50_horizontal.png',\n",
       " 'edge_detection/50_vertical.png',\n",
       " 'edge_detection/51_horizontal.png',\n",
       " 'edge_detection/51_vertical.png',\n",
       " 'edge_detection/53_horizontal.png',\n",
       " 'edge_detection/53_vertical.png',\n",
       " 'edge_detection/55_horizontal.png',\n",
       " 'edge_detection/55_vertical.png',\n",
       " 'edge_detection/56_horizontal.png',\n",
       " 'edge_detection/56_vertical.png',\n",
       " 'edge_detection/57_horizontal.png',\n",
       " 'edge_detection/57_vertical.png',\n",
       " 'edge_detection/58_horizontal.png',\n",
       " 'edge_detection/58_vertical.png',\n",
       " 'edge_detection/5_horizontal.png',\n",
       " 'edge_detection/5_vertical.png',\n",
       " 'edge_detection/60_horizontal.png',\n",
       " 'edge_detection/60_vertical.png',\n",
       " 'edge_detection/61_horizontal.png',\n",
       " 'edge_detection/61_vertical.png',\n",
       " 'edge_detection/62_horizontal.png',\n",
       " 'edge_detection/62_vertical.png',\n",
       " 'edge_detection/63_horizontal.png',\n",
       " 'edge_detection/63_vertical.png',\n",
       " 'edge_detection/64_horizontal.png',\n",
       " 'edge_detection/64_vertical.png',\n",
       " 'edge_detection/65_horizontal.png',\n",
       " 'edge_detection/65_vertical.png',\n",
       " 'edge_detection/66_horizontal.png',\n",
       " 'edge_detection/66_vertical.png',\n",
       " 'edge_detection/67_horizontal.png',\n",
       " 'edge_detection/67_vertical.png',\n",
       " 'edge_detection/68_horizontal.png',\n",
       " 'edge_detection/68_vertical.png',\n",
       " 'edge_detection/69_horizontal.png',\n",
       " 'edge_detection/69_vertical.png',\n",
       " 'edge_detection/6_horizontal.png',\n",
       " 'edge_detection/6_vertical.png',\n",
       " 'edge_detection/71_horizontal.png',\n",
       " 'edge_detection/71_vertical.png',\n",
       " 'edge_detection/72_horizontal.png',\n",
       " 'edge_detection/72_vertical.png',\n",
       " 'edge_detection/73_horizontal.png',\n",
       " 'edge_detection/73_vertical.png',\n",
       " 'edge_detection/7_horizontal.png',\n",
       " 'edge_detection/7_vertical.png',\n",
       " 'edge_detection/8_horizontal.png',\n",
       " 'edge_detection/8_vertical.png',\n",
       " 'edge_detection/9_horizontal.png',\n",
       " 'edge_detection/9_vertical.png']"
      ]
     },
     "execution_count": 16,
     "metadata": {},
     "output_type": "execute_result"
    }
   ],
   "source": [
    "filelist"
   ]
  },
  {
   "cell_type": "code",
   "execution_count": 9,
   "metadata": {
    "scrolled": true
   },
   "outputs": [
    {
     "name": "stderr",
     "output_type": "stream",
     "text": [
      "\r",
      "  0%|          | 0/9 [00:00<?, ?it/s]"
     ]
    },
    {
     "name": "stdout",
     "output_type": "stream",
     "text": [
      "Number of CLusters  150\n"
     ]
    },
    {
     "name": "stderr",
     "output_type": "stream",
     "text": [
      "/Users/Rahulthakur/opt/anaconda3/lib/python3.8/site-packages/sklearn/cluster/_kmeans.py:938: FutureWarning: 'n_jobs' was deprecated in version 0.23 and will be removed in 0.25.\n",
      "  warnings.warn(\"'n_jobs' was deprecated in version 0.23 and will be\"\n",
      " 11%|█         | 1/9 [28:17<3:46:20, 1697.55s/it]"
     ]
    },
    {
     "name": "stdout",
     "output_type": "stream",
     "text": [
      "Number of CLusters  192\n"
     ]
    },
    {
     "name": "stderr",
     "output_type": "stream",
     "text": [
      "/Users/Rahulthakur/opt/anaconda3/lib/python3.8/site-packages/sklearn/cluster/_kmeans.py:938: FutureWarning: 'n_jobs' was deprecated in version 0.23 and will be removed in 0.25.\n",
      "  warnings.warn(\"'n_jobs' was deprecated in version 0.23 and will be\"\n",
      " 22%|██▏       | 2/9 [1:04:25<3:34:31, 1838.76s/it]"
     ]
    },
    {
     "name": "stdout",
     "output_type": "stream",
     "text": [
      "Number of CLusters  220\n"
     ]
    },
    {
     "name": "stderr",
     "output_type": "stream",
     "text": [
      "/Users/Rahulthakur/opt/anaconda3/lib/python3.8/site-packages/sklearn/cluster/_kmeans.py:938: FutureWarning: 'n_jobs' was deprecated in version 0.23 and will be removed in 0.25.\n",
      "  warnings.warn(\"'n_jobs' was deprecated in version 0.23 and will be\"\n",
      " 33%|███▎      | 3/9 [1:49:42<3:30:13, 2102.21s/it]"
     ]
    },
    {
     "name": "stdout",
     "output_type": "stream",
     "text": [
      "Number of CLusters  257\n"
     ]
    },
    {
     "name": "stderr",
     "output_type": "stream",
     "text": [
      "/Users/Rahulthakur/opt/anaconda3/lib/python3.8/site-packages/sklearn/cluster/_kmeans.py:938: FutureWarning: 'n_jobs' was deprecated in version 0.23 and will be removed in 0.25.\n",
      "  warnings.warn(\"'n_jobs' was deprecated in version 0.23 and will be\"\n",
      " 44%|████▍     | 4/9 [2:42:56<3:22:28, 2429.64s/it]"
     ]
    },
    {
     "name": "stdout",
     "output_type": "stream",
     "text": [
      "Number of CLusters  308\n"
     ]
    },
    {
     "name": "stderr",
     "output_type": "stream",
     "text": [
      "/Users/Rahulthakur/opt/anaconda3/lib/python3.8/site-packages/sklearn/cluster/_kmeans.py:938: FutureWarning: 'n_jobs' was deprecated in version 0.23 and will be removed in 0.25.\n",
      "  warnings.warn(\"'n_jobs' was deprecated in version 0.23 and will be\"\n",
      " 56%|█████▌    | 5/9 [3:44:46<3:07:35, 2813.88s/it]"
     ]
    },
    {
     "name": "stdout",
     "output_type": "stream",
     "text": [
      "Number of CLusters  385\n"
     ]
    },
    {
     "name": "stderr",
     "output_type": "stream",
     "text": [
      "/Users/Rahulthakur/opt/anaconda3/lib/python3.8/site-packages/sklearn/cluster/_kmeans.py:938: FutureWarning: 'n_jobs' was deprecated in version 0.23 and will be removed in 0.25.\n",
      "  warnings.warn(\"'n_jobs' was deprecated in version 0.23 and will be\"\n",
      " 67%|██████▋   | 6/9 [7:30:59<5:02:04, 6041.39s/it]"
     ]
    },
    {
     "name": "stdout",
     "output_type": "stream",
     "text": [
      "Number of CLusters  514\n"
     ]
    },
    {
     "name": "stderr",
     "output_type": "stream",
     "text": [
      "/Users/Rahulthakur/opt/anaconda3/lib/python3.8/site-packages/sklearn/cluster/_kmeans.py:938: FutureWarning: 'n_jobs' was deprecated in version 0.23 and will be removed in 0.25.\n",
      "  warnings.warn(\"'n_jobs' was deprecated in version 0.23 and will be\"\n",
      " 78%|███████▊  | 7/9 [9:16:59<3:24:34, 6137.09s/it]"
     ]
    },
    {
     "name": "stdout",
     "output_type": "stream",
     "text": [
      "Number of CLusters  771\n"
     ]
    },
    {
     "name": "stderr",
     "output_type": "stream",
     "text": [
      "/Users/Rahulthakur/opt/anaconda3/lib/python3.8/site-packages/sklearn/cluster/_kmeans.py:938: FutureWarning: 'n_jobs' was deprecated in version 0.23 and will be removed in 0.25.\n",
      "  warnings.warn(\"'n_jobs' was deprecated in version 0.23 and will be\"\n",
      " 89%|████████▉ | 8/9 [12:43:07<2:13:26, 8006.32s/it]"
     ]
    },
    {
     "name": "stdout",
     "output_type": "stream",
     "text": [
      "Number of CLusters  1000\n"
     ]
    },
    {
     "name": "stderr",
     "output_type": "stream",
     "text": [
      "/Users/Rahulthakur/opt/anaconda3/lib/python3.8/site-packages/sklearn/cluster/_kmeans.py:938: FutureWarning: 'n_jobs' was deprecated in version 0.23 and will be removed in 0.25.\n",
      "  warnings.warn(\"'n_jobs' was deprecated in version 0.23 and will be\"\n",
      "100%|██████████| 9/9 [62:49:40<00:00, 25131.16s/it] \n"
     ]
    }
   ],
   "source": [
    "from tqdm import tqdm\n",
    "### Using elbow method to find optimal number of clusters\n",
    "SSE = []\n",
    "for cluster in tqdm([150,192,220,257,308,385,514,771,1000]):\n",
    "    print(\"Number of CLusters \",cluster)\n",
    "    kmeans = KMeans(n_clusters=cluster,n_jobs=-1, random_state=0).fit(np.array(featurelist))\n",
    "\n",
    "    SSE.append(kmeans.inertia_)"
   ]
  },
  {
   "cell_type": "code",
   "execution_count": 10,
   "metadata": {},
   "outputs": [
    {
     "data": {
      "text/plain": [
       "[21199678.0,\n",
       " 20359950.0,\n",
       " 19800666.0,\n",
       " 19160336.0,\n",
       " 18264618.0,\n",
       " 17041110.0,\n",
       " 15093859.0,\n",
       " 11968366.0,\n",
       " 9573138.0]"
      ]
     },
     "execution_count": 10,
     "metadata": {},
     "output_type": "execute_result"
    }
   ],
   "source": [
    "SSE"
   ]
  },
  {
   "cell_type": "markdown",
   "metadata": {},
   "source": [
    "### inertia actually calculates the sum of distances of all the points within a cluster from the centroid of that cluster"
   ]
  },
  {
   "cell_type": "code",
   "execution_count": null,
   "metadata": {},
   "outputs": [],
   "source": [
    "%%time\n",
    "\n",
    "# converting the results into a dataframe and plotting them\n",
    "frame = pd.DataFrame({'Cluster':[150,192,220,257,308,385,514,771,1000], 'SSE':SSE})\n",
    "plt.figure(figsize=(12,6))\n",
    "plt.plot(frame['Cluster'], frame['SSE'], marker='o')\n",
    "plt.xlabel('Number of clusters')\n",
    "plt.ylabel('Inertia')\n",
    "plt.savefig(\"xception.png\")"
   ]
  },
  {
   "cell_type": "code",
   "execution_count": null,
   "metadata": {},
   "outputs": [],
   "source": []
  },
  {
   "cell_type": "code",
   "execution_count": null,
   "metadata": {},
   "outputs": [],
   "source": []
  }
 ],
 "metadata": {
  "kernelspec": {
   "display_name": "Python 3",
   "language": "python",
   "name": "python3"
  },
  "language_info": {
   "codemirror_mode": {
    "name": "ipython",
    "version": 3
   },
   "file_extension": ".py",
   "mimetype": "text/x-python",
   "name": "python",
   "nbconvert_exporter": "python",
   "pygments_lexer": "ipython3",
   "version": "3.8.5"
  }
 },
 "nbformat": 4,
 "nbformat_minor": 4
}
